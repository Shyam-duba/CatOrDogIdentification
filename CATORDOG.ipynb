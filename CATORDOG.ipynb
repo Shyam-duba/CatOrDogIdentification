{
 "cells": [
  {
   "cell_type": "code",
   "execution_count": 158,
   "id": "a54ef1ef-161d-4815-9d42-dc89d75061bc",
   "metadata": {
    "tags": []
   },
   "outputs": [],
   "source": [
    "import pandas as pd\n",
    "import numpy as np\n",
    "from PIL import Image\n",
    "import cv2\n",
    "import re"
   ]
  },
  {
   "cell_type": "code",
   "execution_count": 159,
   "id": "6c1b8c6a-bd81-4062-860b-ab53ab3cbcdc",
   "metadata": {
    "tags": []
   },
   "outputs": [
    {
     "data": {
      "text/html": [
       "<div>\n",
       "<style scoped>\n",
       "    .dataframe tbody tr th:only-of-type {\n",
       "        vertical-align: middle;\n",
       "    }\n",
       "\n",
       "    .dataframe tbody tr th {\n",
       "        vertical-align: top;\n",
       "    }\n",
       "\n",
       "    .dataframe thead th {\n",
       "        text-align: right;\n",
       "    }\n",
       "</style>\n",
       "<table border=\"1\" class=\"dataframe\">\n",
       "  <thead>\n",
       "    <tr style=\"text-align: right;\">\n",
       "      <th></th>\n",
       "      <th>image:FILE</th>\n",
       "      <th>category</th>\n",
       "    </tr>\n",
       "  </thead>\n",
       "  <tbody>\n",
       "    <tr>\n",
       "      <th>0</th>\n",
       "      <td>train/cat/Sphynx_159_jpg.rf.022528b23ac690c34a...</td>\n",
       "      <td>0</td>\n",
       "    </tr>\n",
       "    <tr>\n",
       "      <th>1</th>\n",
       "      <td>train/cat/Persian_139_jpg.rf.0e67f7e0a76dc49d0...</td>\n",
       "      <td>0</td>\n",
       "    </tr>\n",
       "    <tr>\n",
       "      <th>2</th>\n",
       "      <td>train/cat/Bengal_150_jpg.rf.05c93a40014062c5ae...</td>\n",
       "      <td>0</td>\n",
       "    </tr>\n",
       "    <tr>\n",
       "      <th>3</th>\n",
       "      <td>train/cat/Bombay_140_jpg.rf.15757f698af74453f3...</td>\n",
       "      <td>0</td>\n",
       "    </tr>\n",
       "    <tr>\n",
       "      <th>4</th>\n",
       "      <td>train/cat/Persian_128_jpg.rf.16da80c477d1ca2bc...</td>\n",
       "      <td>0</td>\n",
       "    </tr>\n",
       "  </tbody>\n",
       "</table>\n",
       "</div>"
      ],
      "text/plain": [
       "                                          image:FILE  category\n",
       "0  train/cat/Sphynx_159_jpg.rf.022528b23ac690c34a...         0\n",
       "1  train/cat/Persian_139_jpg.rf.0e67f7e0a76dc49d0...         0\n",
       "2  train/cat/Bengal_150_jpg.rf.05c93a40014062c5ae...         0\n",
       "3  train/cat/Bombay_140_jpg.rf.15757f698af74453f3...         0\n",
       "4  train/cat/Persian_128_jpg.rf.16da80c477d1ca2bc...         0"
      ]
     },
     "execution_count": 159,
     "metadata": {},
     "output_type": "execute_result"
    }
   ],
   "source": [
    "df = pd.read_csv(\"C:\\\\Users\\\\shyam\\\\OneDrive\\\\Datssets\\\\train.csv\")\n",
    "file_path = \"C:\\\\Users\\\\shyam\\\\OneDrive\\\\Datssets\\\\{}\"\n",
    "df.head()"
   ]
  },
  {
   "cell_type": "code",
   "execution_count": 160,
   "id": "ba5e09a9-2ab5-4da5-8caa-d73466d6c0c2",
   "metadata": {
    "tags": []
   },
   "outputs": [],
   "source": [
    "def pathConverter(df,pur):\n",
    "    for dir in df['image:FILE']:\n",
    "        rep = re.sub(f'{pur}/cat/',f'{pur}//cat//',dir)\n",
    "        if rep == dir :\n",
    "            df.replace(dir,re.sub(f'{pur}/dog/',f'{pur}//dog//',dir),inplace=True)\n",
    "        else :\n",
    "            df.replace(dir,re.sub(f'{pur}/cat/',f'{pur}//cat//',dir),inplace =True)\n",
    "   "
   ]
  },
  {
   "cell_type": "code",
   "execution_count": 161,
   "id": "0408978c-adb7-472b-923c-6fc4cef5ee6a",
   "metadata": {
    "tags": []
   },
   "outputs": [
    {
     "data": {
      "text/plain": [
       "0    train//cat//Sphynx_159_jpg.rf.022528b23ac690c3...\n",
       "1    train//cat//Persian_139_jpg.rf.0e67f7e0a76dc49...\n",
       "2    train//cat//Bengal_150_jpg.rf.05c93a40014062c5...\n",
       "3    train//cat//Bombay_140_jpg.rf.15757f698af74453...\n",
       "4    train//cat//Persian_128_jpg.rf.16da80c477d1ca2...\n",
       "Name: image:FILE, dtype: object"
      ]
     },
     "execution_count": 161,
     "metadata": {},
     "output_type": "execute_result"
    }
   ],
   "source": [
    "pathConverter(df,'train')\n",
    "df['image:FILE'].head()"
   ]
  },
  {
   "cell_type": "code",
   "execution_count": 162,
   "id": "3bf34d47-12da-45c6-bfa7-9f9e107e8b67",
   "metadata": {},
   "outputs": [],
   "source": [
    "def splitter(df):\n",
    "    images = []\n",
    "    class_label = df['category']\n",
    "    for dir in df['image:FILE']:\n",
    "        image = cv2.imread(f\"C:\\\\Users\\\\shyam\\\\OneDrive\\\\Datssets\\\\{dir}\")\n",
    "        image = cv2.resize(image,(120,120))\n",
    "        gray_image = cv2.cvtColor(image,cv2.COLOR_BGR2GRAY)\n",
    "        x = gray_image.flatten()\n",
    "        images.append(x)\n",
    "    X = np.array(images)\n",
    "#np.hstack([arr_train,np.array(class_label)])\n",
    "    y = np.array(class_label)\n",
    "    return (X,y)\n",
    " "
   ]
  },
  {
   "cell_type": "code",
   "execution_count": 163,
   "id": "f0bf301c-f175-4566-97be-db116464ed41",
   "metadata": {
    "tags": []
   },
   "outputs": [],
   "source": [
    "X_train,y_train = splitter(df) "
   ]
  },
  {
   "cell_type": "code",
   "execution_count": 164,
   "id": "87d82544-3be9-4fd0-ab05-9df3777005b9",
   "metadata": {
    "tags": []
   },
   "outputs": [
    {
     "data": {
      "text/plain": [
       "((275, 14400), (275,))"
      ]
     },
     "execution_count": 164,
     "metadata": {},
     "output_type": "execute_result"
    }
   ],
   "source": [
    "X_train.shape,y_train.shape"
   ]
  },
  {
   "cell_type": "code",
   "execution_count": 165,
   "id": "14d9cbc7-88be-461d-a3ec-72a79fbd9d11",
   "metadata": {
    "tags": []
   },
   "outputs": [],
   "source": [
    "from sklearn.linear_model import LogisticRegression"
   ]
  },
  {
   "cell_type": "code",
   "execution_count": 166,
   "id": "fb553d21-9b24-40b5-b746-53a358236638",
   "metadata": {
    "tags": []
   },
   "outputs": [],
   "source": [
    "lreg = LogisticRegression(max_iter=14400)"
   ]
  },
  {
   "cell_type": "code",
   "execution_count": 167,
   "id": "d1f70192-8d12-406c-89eb-8b5757e1268e",
   "metadata": {
    "tags": []
   },
   "outputs": [
    {
     "data": {
      "text/html": [
       "<style>#sk-container-id-14 {color: black;}#sk-container-id-14 pre{padding: 0;}#sk-container-id-14 div.sk-toggleable {background-color: white;}#sk-container-id-14 label.sk-toggleable__label {cursor: pointer;display: block;width: 100%;margin-bottom: 0;padding: 0.3em;box-sizing: border-box;text-align: center;}#sk-container-id-14 label.sk-toggleable__label-arrow:before {content: \"▸\";float: left;margin-right: 0.25em;color: #696969;}#sk-container-id-14 label.sk-toggleable__label-arrow:hover:before {color: black;}#sk-container-id-14 div.sk-estimator:hover label.sk-toggleable__label-arrow:before {color: black;}#sk-container-id-14 div.sk-toggleable__content {max-height: 0;max-width: 0;overflow: hidden;text-align: left;background-color: #f0f8ff;}#sk-container-id-14 div.sk-toggleable__content pre {margin: 0.2em;color: black;border-radius: 0.25em;background-color: #f0f8ff;}#sk-container-id-14 input.sk-toggleable__control:checked~div.sk-toggleable__content {max-height: 200px;max-width: 100%;overflow: auto;}#sk-container-id-14 input.sk-toggleable__control:checked~label.sk-toggleable__label-arrow:before {content: \"▾\";}#sk-container-id-14 div.sk-estimator input.sk-toggleable__control:checked~label.sk-toggleable__label {background-color: #d4ebff;}#sk-container-id-14 div.sk-label input.sk-toggleable__control:checked~label.sk-toggleable__label {background-color: #d4ebff;}#sk-container-id-14 input.sk-hidden--visually {border: 0;clip: rect(1px 1px 1px 1px);clip: rect(1px, 1px, 1px, 1px);height: 1px;margin: -1px;overflow: hidden;padding: 0;position: absolute;width: 1px;}#sk-container-id-14 div.sk-estimator {font-family: monospace;background-color: #f0f8ff;border: 1px dotted black;border-radius: 0.25em;box-sizing: border-box;margin-bottom: 0.5em;}#sk-container-id-14 div.sk-estimator:hover {background-color: #d4ebff;}#sk-container-id-14 div.sk-parallel-item::after {content: \"\";width: 100%;border-bottom: 1px solid gray;flex-grow: 1;}#sk-container-id-14 div.sk-label:hover label.sk-toggleable__label {background-color: #d4ebff;}#sk-container-id-14 div.sk-serial::before {content: \"\";position: absolute;border-left: 1px solid gray;box-sizing: border-box;top: 0;bottom: 0;left: 50%;z-index: 0;}#sk-container-id-14 div.sk-serial {display: flex;flex-direction: column;align-items: center;background-color: white;padding-right: 0.2em;padding-left: 0.2em;position: relative;}#sk-container-id-14 div.sk-item {position: relative;z-index: 1;}#sk-container-id-14 div.sk-parallel {display: flex;align-items: stretch;justify-content: center;background-color: white;position: relative;}#sk-container-id-14 div.sk-item::before, #sk-container-id-14 div.sk-parallel-item::before {content: \"\";position: absolute;border-left: 1px solid gray;box-sizing: border-box;top: 0;bottom: 0;left: 50%;z-index: -1;}#sk-container-id-14 div.sk-parallel-item {display: flex;flex-direction: column;z-index: 1;position: relative;background-color: white;}#sk-container-id-14 div.sk-parallel-item:first-child::after {align-self: flex-end;width: 50%;}#sk-container-id-14 div.sk-parallel-item:last-child::after {align-self: flex-start;width: 50%;}#sk-container-id-14 div.sk-parallel-item:only-child::after {width: 0;}#sk-container-id-14 div.sk-dashed-wrapped {border: 1px dashed gray;margin: 0 0.4em 0.5em 0.4em;box-sizing: border-box;padding-bottom: 0.4em;background-color: white;}#sk-container-id-14 div.sk-label label {font-family: monospace;font-weight: bold;display: inline-block;line-height: 1.2em;}#sk-container-id-14 div.sk-label-container {text-align: center;}#sk-container-id-14 div.sk-container {/* jupyter's `normalize.less` sets `[hidden] { display: none; }` but bootstrap.min.css set `[hidden] { display: none !important; }` so we also need the `!important` here to be able to override the default hidden behavior on the sphinx rendered scikit-learn.org. See: https://github.com/scikit-learn/scikit-learn/issues/21755 */display: inline-block !important;position: relative;}#sk-container-id-14 div.sk-text-repr-fallback {display: none;}</style><div id=\"sk-container-id-14\" class=\"sk-top-container\"><div class=\"sk-text-repr-fallback\"><pre>LogisticRegression(max_iter=14400)</pre><b>In a Jupyter environment, please rerun this cell to show the HTML representation or trust the notebook. <br />On GitHub, the HTML representation is unable to render, please try loading this page with nbviewer.org.</b></div><div class=\"sk-container\" hidden><div class=\"sk-item\"><div class=\"sk-estimator sk-toggleable\"><input class=\"sk-toggleable__control sk-hidden--visually\" id=\"sk-estimator-id-14\" type=\"checkbox\" checked><label for=\"sk-estimator-id-14\" class=\"sk-toggleable__label sk-toggleable__label-arrow\">LogisticRegression</label><div class=\"sk-toggleable__content\"><pre>LogisticRegression(max_iter=14400)</pre></div></div></div></div></div>"
      ],
      "text/plain": [
       "LogisticRegression(max_iter=14400)"
      ]
     },
     "execution_count": 167,
     "metadata": {},
     "output_type": "execute_result"
    }
   ],
   "source": [
    "lreg.fit(X_train,y_train)"
   ]
  },
  {
   "cell_type": "code",
   "execution_count": 168,
   "id": "b3a6ed7b-65d2-49a6-9ceb-bb56886e901a",
   "metadata": {
    "tags": []
   },
   "outputs": [],
   "source": [
    "#lreg.score(X_train,y_train)"
   ]
  },
  {
   "cell_type": "code",
   "execution_count": 169,
   "id": "c0285c0b-f748-43a3-b57f-cdcd0e868c7d",
   "metadata": {
    "tags": []
   },
   "outputs": [],
   "source": [
    "image = cv2.imread('cat_test.jpeg')"
   ]
  },
  {
   "cell_type": "code",
   "execution_count": 170,
   "id": "7c5f7918-9268-4a5c-bc9c-1dcc92346fc4",
   "metadata": {
    "tags": []
   },
   "outputs": [
    {
     "data": {
      "text/plain": [
       "array([0], dtype=int64)"
      ]
     },
     "execution_count": 170,
     "metadata": {},
     "output_type": "execute_result"
    }
   ],
   "source": [
    "sizimage = cv2.resize(image,(120,120))\n",
    "grayimage = cv2.cvtColor(sizimage,cv2.COLOR_BGR2GRAY)\n",
    "img_array = grayimage.flatten()\n",
    "in_img = np.array(img_array)\n",
    "lreg.predict([in_img])"
   ]
  },
  {
   "cell_type": "code",
   "execution_count": 171,
   "id": "f25f5c39-4f04-4457-b3b9-c16e4be7e303",
   "metadata": {
    "tags": []
   },
   "outputs": [
    {
     "data": {
      "text/html": [
       "<div>\n",
       "<style scoped>\n",
       "    .dataframe tbody tr th:only-of-type {\n",
       "        vertical-align: middle;\n",
       "    }\n",
       "\n",
       "    .dataframe tbody tr th {\n",
       "        vertical-align: top;\n",
       "    }\n",
       "\n",
       "    .dataframe thead th {\n",
       "        text-align: right;\n",
       "    }\n",
       "</style>\n",
       "<table border=\"1\" class=\"dataframe\">\n",
       "  <thead>\n",
       "    <tr style=\"text-align: right;\">\n",
       "      <th></th>\n",
       "      <th>image:FILE</th>\n",
       "      <th>category</th>\n",
       "    </tr>\n",
       "  </thead>\n",
       "  <tbody>\n",
       "    <tr>\n",
       "      <th>0</th>\n",
       "      <td>val/cat/Persian_13_jpg.rf.dd6ccb81649242fcc8a2...</td>\n",
       "      <td>0</td>\n",
       "    </tr>\n",
       "    <tr>\n",
       "      <th>1</th>\n",
       "      <td>val/cat/Birman_137_jpg.rf.dc638a7840b71bfdcc9d...</td>\n",
       "      <td>0</td>\n",
       "    </tr>\n",
       "    <tr>\n",
       "      <th>2</th>\n",
       "      <td>val/cat/Siamese_142_jpg.rf.de98806682118bd0281...</td>\n",
       "      <td>0</td>\n",
       "    </tr>\n",
       "    <tr>\n",
       "      <th>3</th>\n",
       "      <td>val/cat/Birman_163_jpg.rf.de852821da3d65ebd262...</td>\n",
       "      <td>0</td>\n",
       "    </tr>\n",
       "    <tr>\n",
       "      <th>4</th>\n",
       "      <td>val/cat/Bengal_141_jpg.rf.e656908b712d2cb13742...</td>\n",
       "      <td>0</td>\n",
       "    </tr>\n",
       "  </tbody>\n",
       "</table>\n",
       "</div>"
      ],
      "text/plain": [
       "                                          image:FILE  category\n",
       "0  val/cat/Persian_13_jpg.rf.dd6ccb81649242fcc8a2...         0\n",
       "1  val/cat/Birman_137_jpg.rf.dc638a7840b71bfdcc9d...         0\n",
       "2  val/cat/Siamese_142_jpg.rf.de98806682118bd0281...         0\n",
       "3  val/cat/Birman_163_jpg.rf.de852821da3d65ebd262...         0\n",
       "4  val/cat/Bengal_141_jpg.rf.e656908b712d2cb13742...         0"
      ]
     },
     "execution_count": 171,
     "metadata": {},
     "output_type": "execute_result"
    }
   ],
   "source": [
    "df = pd.read_csv(\"C:\\\\Users\\\\shyam\\\\OneDrive\\\\Datssets\\\\val.csv\")\n",
    "df.head()"
   ]
  },
  {
   "cell_type": "code",
   "execution_count": 172,
   "id": "a30053e0-7b8f-4255-8633-ba115ca83e60",
   "metadata": {
    "tags": []
   },
   "outputs": [
    {
     "data": {
      "text/html": [
       "<div>\n",
       "<style scoped>\n",
       "    .dataframe tbody tr th:only-of-type {\n",
       "        vertical-align: middle;\n",
       "    }\n",
       "\n",
       "    .dataframe tbody tr th {\n",
       "        vertical-align: top;\n",
       "    }\n",
       "\n",
       "    .dataframe thead th {\n",
       "        text-align: right;\n",
       "    }\n",
       "</style>\n",
       "<table border=\"1\" class=\"dataframe\">\n",
       "  <thead>\n",
       "    <tr style=\"text-align: right;\">\n",
       "      <th></th>\n",
       "      <th>image:FILE</th>\n",
       "      <th>category</th>\n",
       "    </tr>\n",
       "  </thead>\n",
       "  <tbody>\n",
       "    <tr>\n",
       "      <th>0</th>\n",
       "      <td>val//cat//Persian_13_jpg.rf.dd6ccb81649242fcc8...</td>\n",
       "      <td>0</td>\n",
       "    </tr>\n",
       "    <tr>\n",
       "      <th>1</th>\n",
       "      <td>val//cat//Birman_137_jpg.rf.dc638a7840b71bfdcc...</td>\n",
       "      <td>0</td>\n",
       "    </tr>\n",
       "    <tr>\n",
       "      <th>2</th>\n",
       "      <td>val//cat//Siamese_142_jpg.rf.de98806682118bd02...</td>\n",
       "      <td>0</td>\n",
       "    </tr>\n",
       "    <tr>\n",
       "      <th>3</th>\n",
       "      <td>val//cat//Birman_163_jpg.rf.de852821da3d65ebd2...</td>\n",
       "      <td>0</td>\n",
       "    </tr>\n",
       "    <tr>\n",
       "      <th>4</th>\n",
       "      <td>val//cat//Bengal_141_jpg.rf.e656908b712d2cb137...</td>\n",
       "      <td>0</td>\n",
       "    </tr>\n",
       "  </tbody>\n",
       "</table>\n",
       "</div>"
      ],
      "text/plain": [
       "                                          image:FILE  category\n",
       "0  val//cat//Persian_13_jpg.rf.dd6ccb81649242fcc8...         0\n",
       "1  val//cat//Birman_137_jpg.rf.dc638a7840b71bfdcc...         0\n",
       "2  val//cat//Siamese_142_jpg.rf.de98806682118bd02...         0\n",
       "3  val//cat//Birman_163_jpg.rf.de852821da3d65ebd2...         0\n",
       "4  val//cat//Bengal_141_jpg.rf.e656908b712d2cb137...         0"
      ]
     },
     "execution_count": 172,
     "metadata": {},
     "output_type": "execute_result"
    }
   ],
   "source": [
    "pathConverter(df,'val')\n",
    "df.head()"
   ]
  },
  {
   "cell_type": "code",
   "execution_count": 174,
   "id": "e9d2e3bf-bc1f-474a-b8e1-a7ca477eca97",
   "metadata": {
    "tags": []
   },
   "outputs": [],
   "source": [
    "X_test,y_test = splitter(df)"
   ]
  },
  {
   "cell_type": "code",
   "execution_count": 175,
   "id": "c55bae80-329a-48af-9fc2-7d4d1d3a8b05",
   "metadata": {
    "tags": []
   },
   "outputs": [
    {
     "data": {
      "text/plain": [
       "((70, 14400), (70,))"
      ]
     },
     "execution_count": 175,
     "metadata": {},
     "output_type": "execute_result"
    }
   ],
   "source": [
    "X_test.shape,y_test.shape"
   ]
  },
  {
   "cell_type": "code",
   "execution_count": 176,
   "id": "ccc83291-5af1-4ada-881e-fc52d5b12326",
   "metadata": {
    "tags": []
   },
   "outputs": [
    {
     "data": {
      "text/plain": [
       "array([0, 1, 1, 1, 1, 1, 1, 0, 1, 1, 1, 1, 0, 1, 1, 1, 1, 1, 1, 1, 0, 1,\n",
       "       1, 1, 1, 1, 0, 1, 1, 0, 1, 1, 1, 1, 1, 1, 0, 1, 1, 1, 1, 1, 1, 1,\n",
       "       0, 0, 0, 1, 1, 0, 0, 1, 0, 0, 1, 1, 0, 1, 0, 1, 1, 0, 1, 0, 1, 1,\n",
       "       1, 1, 1, 1], dtype=int64)"
      ]
     },
     "execution_count": 176,
     "metadata": {},
     "output_type": "execute_result"
    }
   ],
   "source": [
    "lreg.predict(X_test)"
   ]
  },
  {
   "cell_type": "code",
   "execution_count": 177,
   "id": "c48fb8f0-5d27-4e02-ae9c-3354eb074f0c",
   "metadata": {
    "tags": []
   },
   "outputs": [
    {
     "data": {
      "text/plain": [
       "array([0, 0, 0, 0, 0, 0, 0, 0, 0, 0, 0, 0, 0, 0, 0, 0, 0, 0, 0, 0, 0, 0,\n",
       "       0, 0, 1, 1, 1, 1, 1, 1, 1, 1, 1, 1, 1, 1, 1, 1, 1, 1, 1, 1, 1, 1,\n",
       "       1, 1, 1, 1, 1, 1, 1, 1, 1, 1, 1, 1, 1, 1, 1, 1, 1, 1, 1, 1, 1, 1,\n",
       "       1, 1, 1, 1], dtype=int64)"
      ]
     },
     "execution_count": 177,
     "metadata": {},
     "output_type": "execute_result"
    }
   ],
   "source": [
    "y_test"
   ]
  },
  {
   "cell_type": "code",
   "execution_count": 178,
   "id": "a48221a6-e76f-4659-b21e-696978b24dfb",
   "metadata": {
    "tags": []
   },
   "outputs": [
    {
     "data": {
      "text/plain": [
       "array([0, 0, 1, 1, 1, 1, 1, 0, 0, 1, 1, 0, 1, 0, 0, 1, 0, 1, 0, 0, 0, 0,\n",
       "       0, 1, 1, 1, 0, 0, 1, 1, 1, 1, 1, 1, 1, 1, 1, 1, 1, 0, 0, 0, 1, 1,\n",
       "       0, 0, 0, 1, 1, 1, 1, 1, 0, 1, 0, 1, 1, 1, 1, 1, 1, 0, 1, 1, 1, 0,\n",
       "       1, 1, 1, 1], dtype=int64)"
      ]
     },
     "execution_count": 178,
     "metadata": {},
     "output_type": "execute_result"
    }
   ],
   "source": [
    "KNN.predict(X_test)"
   ]
  },
  {
   "cell_type": "code",
   "execution_count": 179,
   "id": "fb15022c-3949-4b1c-bf6e-fa610ea438ff",
   "metadata": {
    "tags": []
   },
   "outputs": [
    {
     "data": {
      "text/plain": [
       "0.6714285714285714"
      ]
     },
     "execution_count": 179,
     "metadata": {},
     "output_type": "execute_result"
    }
   ],
   "source": [
    "KNN.score(X_test,y_test)"
   ]
  },
  {
   "cell_type": "code",
   "execution_count": 180,
   "id": "ea2d3337-81b3-4e17-b5fd-60ada1cf230c",
   "metadata": {
    "tags": []
   },
   "outputs": [
    {
     "data": {
      "text/plain": [
       "0.5142857142857142"
      ]
     },
     "execution_count": 180,
     "metadata": {},
     "output_type": "execute_result"
    }
   ],
   "source": [
    "lreg.score(X_test,y_test)"
   ]
  }
 ],
 "metadata": {
  "kernelspec": {
   "display_name": "Python 3 (ipykernel)",
   "language": "python",
   "name": "python3"
  },
  "language_info": {
   "codemirror_mode": {
    "name": "ipython",
    "version": 3
   },
   "file_extension": ".py",
   "mimetype": "text/x-python",
   "name": "python",
   "nbconvert_exporter": "python",
   "pygments_lexer": "ipython3",
   "version": "3.11.5"
  }
 },
 "nbformat": 4,
 "nbformat_minor": 5
}
